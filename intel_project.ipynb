{
  "nbformat": 4,
  "nbformat_minor": 0,
  "metadata": {
    "colab": {
      "name": "proekt_1.ipynb",
      "provenance": [],
      "collapsed_sections": []
    },
    "kernelspec": {
      "display_name": "Python 3",
      "name": "python3"
    },
    "language_info": {
      "name": "python"
    }
  },
  "cells": [
    {
      "cell_type": "code",
      "metadata": {
        "id": "LY3vjvl7KQ5l"
      },
      "source": [
        "import pandas as pd"
      ],
      "execution_count": 9,
      "outputs": []
    },
    {
      "cell_type": "code",
      "metadata": {
        "id": "xgqxm-DdKhsI"
      },
      "source": [
        "train = pd.DataFrame([sentence.split(';') for sentence in open('train.txt', 'r').read().split('\\n')[::-1][1:]], columns = ['text', 'emotion'])\n",
        "test = pd.DataFrame([sentence.split(';') for sentence in open('test.txt', 'r').read().split('\\n')[::-1][1:]], columns = ['text', 'emotion'])\n",
        "val = pd.DataFrame([sentence.split(';') for sentence in open('val.txt', 'r').read().split('\\n')[::-1][1:]], columns = ['text', 'emotion'])\n",
        "data = train.append(test).append(val).reset_index().drop(labels=['index'], axis = 1)"
      ],
      "execution_count": 10,
      "outputs": []
    },
    {
      "cell_type": "code",
      "metadata": {
        "id": "ujkOT1AcPilh",
        "colab": {
          "base_uri": "https://localhost:8080/",
          "height": 424
        },
        "outputId": "69fa6552-b147-45ec-dd40-7edf957cfa33"
      },
      "source": [
        "data"
      ],
      "execution_count": 11,
      "outputs": [
        {
          "output_type": "execute_result",
          "data": {
            "text/html": [
              "<div>\n",
              "<style scoped>\n",
              "    .dataframe tbody tr th:only-of-type {\n",
              "        vertical-align: middle;\n",
              "    }\n",
              "\n",
              "    .dataframe tbody tr th {\n",
              "        vertical-align: top;\n",
              "    }\n",
              "\n",
              "    .dataframe thead th {\n",
              "        text-align: right;\n",
              "    }\n",
              "</style>\n",
              "<table border=\"1\" class=\"dataframe\">\n",
              "  <thead>\n",
              "    <tr style=\"text-align: right;\">\n",
              "      <th></th>\n",
              "      <th>text</th>\n",
              "      <th>emotion</th>\n",
              "    </tr>\n",
              "  </thead>\n",
              "  <tbody>\n",
              "    <tr>\n",
              "      <th>0</th>\n",
              "      <td>i know a lot but i feel so stupid because i ca...</td>\n",
              "      <td>sadness</td>\n",
              "    </tr>\n",
              "    <tr>\n",
              "      <th>1</th>\n",
              "      <td>i feel like this was such a rude comment and i...</td>\n",
              "      <td>anger</td>\n",
              "    </tr>\n",
              "    <tr>\n",
              "      <th>2</th>\n",
              "      <td>i feel strong and good overall</td>\n",
              "      <td>joy</td>\n",
              "    </tr>\n",
              "    <tr>\n",
              "      <th>3</th>\n",
              "      <td>i am now turning and i feel pathetic that i am...</td>\n",
              "      <td>sadness</td>\n",
              "    </tr>\n",
              "    <tr>\n",
              "      <th>4</th>\n",
              "      <td>i just had a very brief time in the beanbag an...</td>\n",
              "      <td>sadness</td>\n",
              "    </tr>\n",
              "    <tr>\n",
              "      <th>...</th>\n",
              "      <td>...</td>\n",
              "      <td>...</td>\n",
              "    </tr>\n",
              "    <tr>\n",
              "      <th>19995</th>\n",
              "      <td>i can have for a treat or if i am feeling festive</td>\n",
              "      <td>joy</td>\n",
              "    </tr>\n",
              "    <tr>\n",
              "      <th>19996</th>\n",
              "      <td>i am just feeling cranky and blue</td>\n",
              "      <td>anger</td>\n",
              "    </tr>\n",
              "    <tr>\n",
              "      <th>19997</th>\n",
              "      <td>i feel like a faithful servant</td>\n",
              "      <td>love</td>\n",
              "    </tr>\n",
              "    <tr>\n",
              "      <th>19998</th>\n",
              "      <td>i feel like i am still looking at a blank canv...</td>\n",
              "      <td>sadness</td>\n",
              "    </tr>\n",
              "    <tr>\n",
              "      <th>19999</th>\n",
              "      <td>im feeling quite sad and sorry for myself but ...</td>\n",
              "      <td>sadness</td>\n",
              "    </tr>\n",
              "  </tbody>\n",
              "</table>\n",
              "<p>20000 rows × 2 columns</p>\n",
              "</div>"
            ],
            "text/plain": [
              "                                                    text  emotion\n",
              "0      i know a lot but i feel so stupid because i ca...  sadness\n",
              "1      i feel like this was such a rude comment and i...    anger\n",
              "2                         i feel strong and good overall      joy\n",
              "3      i am now turning and i feel pathetic that i am...  sadness\n",
              "4      i just had a very brief time in the beanbag an...  sadness\n",
              "...                                                  ...      ...\n",
              "19995  i can have for a treat or if i am feeling festive      joy\n",
              "19996                  i am just feeling cranky and blue    anger\n",
              "19997                     i feel like a faithful servant     love\n",
              "19998  i feel like i am still looking at a blank canv...  sadness\n",
              "19999  im feeling quite sad and sorry for myself but ...  sadness\n",
              "\n",
              "[20000 rows x 2 columns]"
            ]
          },
          "metadata": {},
          "execution_count": 11
        }
      ]
    },
    {
      "cell_type": "code",
      "metadata": {
        "id": "QUw9ZWiYybkl"
      },
      "source": [
        "data=data[data['emotion']!='surprise'].reset_index().drop(labels=['index'], axis = 1)"
      ],
      "execution_count": 12,
      "outputs": []
    },
    {
      "cell_type": "code",
      "metadata": {
        "id": "2jjqjtcBdW0J"
      },
      "source": [
        "from sklearn import preprocessing"
      ],
      "execution_count": 13,
      "outputs": []
    },
    {
      "cell_type": "code",
      "metadata": {
        "id": "W_r7fkvidG8J"
      },
      "source": [
        "le = preprocessing.LabelEncoder()\n",
        "data['emotion'] = le.fit_transform(data['emotion'])"
      ],
      "execution_count": 14,
      "outputs": []
    },
    {
      "cell_type": "code",
      "metadata": {
        "id": "bnq11m56Vs6o",
        "colab": {
          "base_uri": "https://localhost:8080/",
          "height": 424
        },
        "outputId": "836b89c0-0389-48a7-bc5e-13369e66a28b"
      },
      "source": [
        "data"
      ],
      "execution_count": 15,
      "outputs": [
        {
          "output_type": "execute_result",
          "data": {
            "text/html": [
              "<div>\n",
              "<style scoped>\n",
              "    .dataframe tbody tr th:only-of-type {\n",
              "        vertical-align: middle;\n",
              "    }\n",
              "\n",
              "    .dataframe tbody tr th {\n",
              "        vertical-align: top;\n",
              "    }\n",
              "\n",
              "    .dataframe thead th {\n",
              "        text-align: right;\n",
              "    }\n",
              "</style>\n",
              "<table border=\"1\" class=\"dataframe\">\n",
              "  <thead>\n",
              "    <tr style=\"text-align: right;\">\n",
              "      <th></th>\n",
              "      <th>text</th>\n",
              "      <th>emotion</th>\n",
              "    </tr>\n",
              "  </thead>\n",
              "  <tbody>\n",
              "    <tr>\n",
              "      <th>0</th>\n",
              "      <td>i know a lot but i feel so stupid because i ca...</td>\n",
              "      <td>4</td>\n",
              "    </tr>\n",
              "    <tr>\n",
              "      <th>1</th>\n",
              "      <td>i feel like this was such a rude comment and i...</td>\n",
              "      <td>0</td>\n",
              "    </tr>\n",
              "    <tr>\n",
              "      <th>2</th>\n",
              "      <td>i feel strong and good overall</td>\n",
              "      <td>2</td>\n",
              "    </tr>\n",
              "    <tr>\n",
              "      <th>3</th>\n",
              "      <td>i am now turning and i feel pathetic that i am...</td>\n",
              "      <td>4</td>\n",
              "    </tr>\n",
              "    <tr>\n",
              "      <th>4</th>\n",
              "      <td>i just had a very brief time in the beanbag an...</td>\n",
              "      <td>4</td>\n",
              "    </tr>\n",
              "    <tr>\n",
              "      <th>...</th>\n",
              "      <td>...</td>\n",
              "      <td>...</td>\n",
              "    </tr>\n",
              "    <tr>\n",
              "      <th>19276</th>\n",
              "      <td>i can have for a treat or if i am feeling festive</td>\n",
              "      <td>2</td>\n",
              "    </tr>\n",
              "    <tr>\n",
              "      <th>19277</th>\n",
              "      <td>i am just feeling cranky and blue</td>\n",
              "      <td>0</td>\n",
              "    </tr>\n",
              "    <tr>\n",
              "      <th>19278</th>\n",
              "      <td>i feel like a faithful servant</td>\n",
              "      <td>3</td>\n",
              "    </tr>\n",
              "    <tr>\n",
              "      <th>19279</th>\n",
              "      <td>i feel like i am still looking at a blank canv...</td>\n",
              "      <td>4</td>\n",
              "    </tr>\n",
              "    <tr>\n",
              "      <th>19280</th>\n",
              "      <td>im feeling quite sad and sorry for myself but ...</td>\n",
              "      <td>4</td>\n",
              "    </tr>\n",
              "  </tbody>\n",
              "</table>\n",
              "<p>19281 rows × 2 columns</p>\n",
              "</div>"
            ],
            "text/plain": [
              "                                                    text  emotion\n",
              "0      i know a lot but i feel so stupid because i ca...        4\n",
              "1      i feel like this was such a rude comment and i...        0\n",
              "2                         i feel strong and good overall        2\n",
              "3      i am now turning and i feel pathetic that i am...        4\n",
              "4      i just had a very brief time in the beanbag an...        4\n",
              "...                                                  ...      ...\n",
              "19276  i can have for a treat or if i am feeling festive        2\n",
              "19277                  i am just feeling cranky and blue        0\n",
              "19278                     i feel like a faithful servant        3\n",
              "19279  i feel like i am still looking at a blank canv...        4\n",
              "19280  im feeling quite sad and sorry for myself but ...        4\n",
              "\n",
              "[19281 rows x 2 columns]"
            ]
          },
          "metadata": {},
          "execution_count": 15
        }
      ]
    },
    {
      "cell_type": "code",
      "metadata": {
        "colab": {
          "base_uri": "https://localhost:8080/"
        },
        "id": "CuVCiK-NJIR_",
        "outputId": "d95c1d42-13ac-4947-f9e9-bbe36c2e4da3"
      },
      "source": [
        "import nltk\n",
        "nltk.download('stopwords')\n",
        "nltk.download('punkt')"
      ],
      "execution_count": 16,
      "outputs": [
        {
          "output_type": "stream",
          "name": "stdout",
          "text": [
            "[nltk_data] Downloading package stopwords to /root/nltk_data...\n",
            "[nltk_data]   Unzipping corpora/stopwords.zip.\n",
            "[nltk_data] Downloading package punkt to /root/nltk_data...\n",
            "[nltk_data]   Unzipping tokenizers/punkt.zip.\n"
          ]
        },
        {
          "output_type": "execute_result",
          "data": {
            "text/plain": [
              "True"
            ]
          },
          "metadata": {},
          "execution_count": 16
        }
      ]
    },
    {
      "cell_type": "code",
      "metadata": {
        "id": "4i7MCtsfJI6n"
      },
      "source": [
        "stop = nltk.corpus.stopwords.words('english')\n",
        "stop+=[',','.', 'im',\"'m\"]\n",
        "stop.extend([word.replace(\"'\", '') for word in stop if (\"'\" in word)])"
      ],
      "execution_count": 17,
      "outputs": []
    },
    {
      "cell_type": "code",
      "metadata": {
        "id": "dkuB9XufKau-"
      },
      "source": [
        "porter = nltk.stem.PorterStemmer()\n",
        "def process_sentence(sentence):\n",
        "    sentence=sentence.lower() \n",
        "    if \"'\" in sentence:\n",
        "      sentence=sentence.replace(\"'\",' ')   \n",
        "    tokenized = nltk.tokenize.word_tokenize(sentence)\n",
        "    processed = [w for w in tokenized if w not in stop]\n",
        "    stemmed = [porter.stem(word) for word in processed]\n",
        "    return stemmed"
      ],
      "execution_count": 18,
      "outputs": []
    },
    {
      "cell_type": "code",
      "metadata": {
        "colab": {
          "base_uri": "https://localhost:8080/"
        },
        "id": "O2aO9BK5MoG1",
        "outputId": "b81c2824-8644-4cde-d92f-d3495f710d96"
      },
      "source": [
        "for i in range(len(data)):\n",
        "  data['text'][i]=process_sentence(data['text'][i])"
      ],
      "execution_count": 19,
      "outputs": [
        {
          "output_type": "stream",
          "name": "stderr",
          "text": [
            "/usr/local/lib/python3.7/dist-packages/ipykernel_launcher.py:2: SettingWithCopyWarning: \n",
            "A value is trying to be set on a copy of a slice from a DataFrame\n",
            "\n",
            "See the caveats in the documentation: https://pandas.pydata.org/pandas-docs/stable/user_guide/indexing.html#returning-a-view-versus-a-copy\n",
            "  \n"
          ]
        }
      ]
    },
    {
      "cell_type": "code",
      "metadata": {
        "id": "Je1_6GPmOI2N"
      },
      "source": [
        "vocabulary = set([y for x in list(data['text']) for y in x])"
      ],
      "execution_count": 20,
      "outputs": []
    },
    {
      "cell_type": "code",
      "metadata": {
        "id": "8bvgOwa0OPhl"
      },
      "source": [
        "import numpy as np"
      ],
      "execution_count": 21,
      "outputs": []
    },
    {
      "cell_type": "code",
      "metadata": {
        "colab": {
          "base_uri": "https://localhost:8080/"
        },
        "id": "7fXLkC_MN8ZV",
        "outputId": "18cf4de7-2956-4356-9a67-5c5ca6e4cdaf"
      },
      "source": [
        "bag_of_words = np.array([[Sentence.count(x) for x in vocabulary] for Sentence in list(data['text'])])\n",
        "bag_of_words"
      ],
      "execution_count": 22,
      "outputs": [
        {
          "output_type": "execute_result",
          "data": {
            "text/plain": [
              "array([[0, 0, 0, ..., 0, 0, 0],\n",
              "       [0, 0, 0, ..., 0, 0, 0],\n",
              "       [0, 0, 0, ..., 0, 0, 0],\n",
              "       ...,\n",
              "       [0, 0, 0, ..., 0, 0, 0],\n",
              "       [0, 0, 0, ..., 0, 0, 0],\n",
              "       [0, 0, 0, ..., 0, 0, 0]])"
            ]
          },
          "metadata": {},
          "execution_count": 22
        }
      ]
    },
    {
      "cell_type": "code",
      "metadata": {
        "id": "BY1FbkHhPyEV"
      },
      "source": [
        "from sklearn.metrics import accuracy_score\n",
        "from sklearn.model_selection import train_test_split"
      ],
      "execution_count": 23,
      "outputs": []
    },
    {
      "cell_type": "code",
      "metadata": {
        "id": "JJZ-QWoBQDrt"
      },
      "source": [
        "X_train, X_test, y_train, y_test = train_test_split(bag_of_words, data['emotion'], test_size=0.2)"
      ],
      "execution_count": 24,
      "outputs": []
    },
    {
      "cell_type": "code",
      "metadata": {
        "id": "VW_4XJzgNcb1"
      },
      "source": [
        "from sklearn.linear_model import RidgeClassifier"
      ],
      "execution_count": 25,
      "outputs": []
    },
    {
      "cell_type": "code",
      "metadata": {
        "id": "XfAFeEK8O28s"
      },
      "source": [
        "model = RidgeClassifier()"
      ],
      "execution_count": 26,
      "outputs": []
    },
    {
      "cell_type": "code",
      "metadata": {
        "id": "WH51HXuHQOQt",
        "colab": {
          "base_uri": "https://localhost:8080/"
        },
        "outputId": "845fe2bf-d2cf-4923-842c-2d2712f402a5"
      },
      "source": [
        "model.fit(X_train, y_train)"
      ],
      "execution_count": 27,
      "outputs": [
        {
          "output_type": "execute_result",
          "data": {
            "text/plain": [
              "RidgeClassifier()"
            ]
          },
          "metadata": {},
          "execution_count": 27
        }
      ]
    },
    {
      "cell_type": "code",
      "metadata": {
        "id": "ln4Fna0YQSLN"
      },
      "source": [
        "y_predict = model.predict(X_test)"
      ],
      "execution_count": 28,
      "outputs": []
    },
    {
      "cell_type": "code",
      "metadata": {
        "id": "s11CcCPhR6Fs"
      },
      "source": [
        "score = accuracy_score(y_predict, y_test)"
      ],
      "execution_count": 29,
      "outputs": []
    },
    {
      "cell_type": "code",
      "metadata": {
        "id": "Wg643LCVVBRL",
        "colab": {
          "base_uri": "https://localhost:8080/"
        },
        "outputId": "1c1a35cf-b054-4db7-979e-3f47cf6d03d5"
      },
      "source": [
        "score"
      ],
      "execution_count": 30,
      "outputs": [
        {
          "output_type": "execute_result",
          "data": {
            "text/plain": [
              "0.8693284936479129"
            ]
          },
          "metadata": {},
          "execution_count": 30
        }
      ]
    },
    {
      "cell_type": "code",
      "metadata": {
        "id": "VKtFEKkzViyT",
        "colab": {
          "base_uri": "https://localhost:8080/"
        },
        "outputId": "a6f1b897-fc08-4479-c003-de6d43ec6872"
      },
      "source": [
        "!pip install pyTelegramBotAPI"
      ],
      "execution_count": 31,
      "outputs": [
        {
          "output_type": "stream",
          "name": "stdout",
          "text": [
            "Collecting pyTelegramBotAPI\n",
            "  Downloading pyTelegramBotAPI-4.2.0.tar.gz (106 kB)\n",
            "\u001b[?25l\r\u001b[K     |███                             | 10 kB 20.9 MB/s eta 0:00:01\r\u001b[K     |██████▏                         | 20 kB 13.5 MB/s eta 0:00:01\r\u001b[K     |█████████▎                      | 30 kB 9.3 MB/s eta 0:00:01\r\u001b[K     |████████████▍                   | 40 kB 8.4 MB/s eta 0:00:01\r\u001b[K     |███████████████▍                | 51 kB 4.2 MB/s eta 0:00:01\r\u001b[K     |██████████████████▌             | 61 kB 4.5 MB/s eta 0:00:01\r\u001b[K     |█████████████████████▋          | 71 kB 4.7 MB/s eta 0:00:01\r\u001b[K     |████████████████████████▊       | 81 kB 5.2 MB/s eta 0:00:01\r\u001b[K     |███████████████████████████▊    | 92 kB 3.8 MB/s eta 0:00:01\r\u001b[K     |██████████████████████████████▉ | 102 kB 4.1 MB/s eta 0:00:01\r\u001b[K     |████████████████████████████████| 106 kB 4.1 MB/s \n",
            "\u001b[?25hRequirement already satisfied: requests in /usr/local/lib/python3.7/dist-packages (from pyTelegramBotAPI) (2.23.0)\n",
            "Requirement already satisfied: chardet<4,>=3.0.2 in /usr/local/lib/python3.7/dist-packages (from requests->pyTelegramBotAPI) (3.0.4)\n",
            "Requirement already satisfied: certifi>=2017.4.17 in /usr/local/lib/python3.7/dist-packages (from requests->pyTelegramBotAPI) (2021.10.8)\n",
            "Requirement already satisfied: urllib3!=1.25.0,!=1.25.1,<1.26,>=1.21.1 in /usr/local/lib/python3.7/dist-packages (from requests->pyTelegramBotAPI) (1.24.3)\n",
            "Requirement already satisfied: idna<3,>=2.5 in /usr/local/lib/python3.7/dist-packages (from requests->pyTelegramBotAPI) (2.10)\n",
            "Building wheels for collected packages: pyTelegramBotAPI\n",
            "  Building wheel for pyTelegramBotAPI (setup.py) ... \u001b[?25l\u001b[?25hdone\n",
            "  Created wheel for pyTelegramBotAPI: filename=pyTelegramBotAPI-4.2.0-py3-none-any.whl size=82905 sha256=779fd8e9eebb22d250ef4268d493fee9158cc741742459d8379d81add02a589a\n",
            "  Stored in directory: /root/.cache/pip/wheels/d1/c9/28/e4a276c58fec030f8d37fd4ce3d3266a4e34a6177dfa2384dc\n",
            "Successfully built pyTelegramBotAPI\n",
            "Installing collected packages: pyTelegramBotAPI\n",
            "Successfully installed pyTelegramBotAPI-4.2.0\n"
          ]
        }
      ]
    },
    {
      "cell_type": "code",
      "metadata": {
        "id": "yyyo2SBcVhmz"
      },
      "source": [
        "import telebot\n",
        "import requests"
      ],
      "execution_count": 32,
      "outputs": []
    },
    {
      "cell_type": "code",
      "metadata": {
        "id": "0o9hNfc2VgkD"
      },
      "source": [
        "                                                                                                                                                                          bot = telebot.TeleBot('1850071013:AAEhZtOE4eJEhknk0Cy6qw5WZ4yqFf5fe4w')"
      ],
      "execution_count": 33,
      "outputs": []
    },
    {
      "cell_type": "code",
      "metadata": {
        "id": "aNlBgCc5x74i"
      },
      "source": [
        "import random"
      ],
      "execution_count": 34,
      "outputs": []
    },
    {
      "cell_type": "code",
      "metadata": {
        "id": "PLNQXRtwtFFY"
      },
      "source": [
        "mus1c = {0 : ['https://open.spotify.com/playlist/6GoKqGP6XSoFHMCzPdkRdi','https://open.spotify.com/playlist/2fIeIgig0ymDziLvTxtRAR'],\n",
        "          1 : ['https://open.spotify.com/playlist/4ok2S3Xn7g0qX0smx62Jyl','https://open.spotify.com/playlist/46ExJ3jca9Qe5oPT1UGMoI'],\n",
        "          2 : ['https://open.spotify.com/playlist/5FEWS5188kZsxkNCR6AKKW','https://open.spotify.com/playlist/0vOA7HwKaHJ3dXFKaHQgNy'],\n",
        "          3 : ['https://open.spotify.com/playlist/2LqZ0WqJTaOJ081vXiYrlB','https://open.spotify.com/playlist/2madQN5Wu2uFFgDIFtREDO'],\n",
        "          4 : ['https://open.spotify.com/playlist/40q1w2wDxk8QcO5R9YIPq0','https://open.spotify.com/playlist/6gT2fQF1EVvCFwKTRPCQaA']}"
      ],
      "execution_count": 35,
      "outputs": []
    },
    {
      "cell_type": "code",
      "metadata": {
        "id": "UpOWuJSLMvRV"
      },
      "source": [
        "musicquestion = {0: ['сделай глубокий вдох.... может, хороший плейлист поможет успокоиться?'],\n",
        "          1:['сделай глубокий вдох.... может, хороший плейлист поможет успокоиться?'],\n",
        "          2:['очень рад за тебя!! хочешь, кину тебе плейлист? мне кажется, тебе понравится'],\n",
        "          3:['очень рад за тебя!! хочешь, кину тебе плейлист? мне кажется, тебе понравится'],\n",
        "          4:['мне очень жаль, что так произошло:( хочешь послушать музыки? я сделал подборку специально для тебя', 'все обязательно наладится!! хочешь послушать музыки? я сделал подборку специально для тебя']}"
      ],
      "execution_count": 36,
      "outputs": []
    },
    {
      "cell_type": "code",
      "metadata": {
        "id": "oSyDqhW5jWzG"
      },
      "source": [
        "def translate(string):\n",
        "  params = {\n",
        "  \"q\": string,\n",
        "  \"source\": \"ru\",\n",
        "  \"target\": \"en\"}\n",
        "  url = 'https://libretranslate.de/translate'\n",
        "  r = requests.post(url, params = params, headers={\"accept\": \"application/json\"})\n",
        "  return r.json()['translatedText']"
      ],
      "execution_count": 37,
      "outputs": []
    },
    {
      "cell_type": "code",
      "metadata": {
        "id": "U4QxDROTj7ZX"
      },
      "source": [
        "whatsup= ['как дела', 'как настроение', 'хорошо а твои', 'как ты', 'как жизнь']\n",
        "doing=['что делаешь','чем занимаешься']\n",
        "greeting=['привет','здравствуйте','хеллоу','ку','хай','чао','прив','добрый день','добрый вечер','доброе утро','приветствую','здравствуй','приветики','куку']\n",
        "music=['хочу плейлист','подбери музыку','музыка','составь плейлист','хочу подборку','сделай подборку','послушать подборку','слушать нечего','посоветуй музыку','кинь трек','слушать музыку']\n",
        "\n",
        "whatsupanswer =['все хорошо, а у тебя?','замечательно! ты как?']\n",
        "doinganswer=['пишу тебе! а ты?']\n",
        "mood=['давай сменим тему? как прошел твой день?','как настроение? что было сегодня?','расскажешь, как твои дела?']"
      ],
      "execution_count": 38,
      "outputs": []
    },
    {
      "cell_type": "code",
      "metadata": {
        "id": "ztdAFI1O_-Jk"
      },
      "source": [
        "bot = telebot.TeleBot('1850071013:AAEhZtOE4eJEhknk0Cy6qw5WZ4yqFf5fe4w')"
      ],
      "execution_count": 39,
      "outputs": []
    },
    {
      "cell_type": "code",
      "metadata": {
        "id": "ujwSIY9eEdY5"
      },
      "source": [
        "from telebot import types"
      ],
      "execution_count": 40,
      "outputs": []
    },
    {
      "cell_type": "code",
      "metadata": {
        "colab": {
          "base_uri": "https://localhost:8080/"
        },
        "id": "Dz2Bw8bxD8zP",
        "outputId": "a3a7099f-0f2f-4035-dddd-f60a000d11f7"
      },
      "source": [
        "markup = types.InlineKeyboardMarkup()\n",
        "button1 = types.InlineKeyboardButton(text = 'да', callback_data = 'yes')\n",
        "button2 = types.InlineKeyboardButton(text = 'нет', callback_data = 'no')\n",
        "markup.add(button1, button2)\n",
        "\n"
      ],
      "execution_count": 41,
      "outputs": [
        {
          "output_type": "execute_result",
          "data": {
            "text/plain": [
              "<telebot.types.InlineKeyboardMarkup at 0x7f72860c7290>"
            ]
          },
          "metadata": {},
          "execution_count": 41
        }
      ]
    },
    {
      "cell_type": "code",
      "metadata": {
        "id": "9-ruzhlCOCxb"
      },
      "source": [
        "question1=0\n",
        "pred=''"
      ],
      "execution_count": 42,
      "outputs": []
    },
    {
      "cell_type": "code",
      "metadata": {
        "id": "6tWdWPu7VfOz"
      },
      "source": [
        "@bot.message_handler()\n",
        "def trigger(message):\n",
        "  global question1, question2,pred\n",
        "  msg = message.text.lower().replace('.', '').replace('?', '').replace('!', '').replace(',', '')\n",
        "  if question1==1:\n",
        "    translated_message = process_sentence(translate(message.text))\n",
        "    num_message = np.array([translated_message.count(x) for x in vocabulary]).reshape(1, -1)\n",
        "    pred = model.predict(num_message)\n",
        "    bot.send_message(message.from_user.id, random.choice(musicquestion[pred[0]]), reply_markup = markup)\n",
        "    question1=0\n",
        "  elif msg in whatsup:\n",
        "    bot.send_message(message.from_user.id, random.choice(whatsupanswer))\n",
        "  elif msg in doing:\n",
        "    bot.send_message(message.from_user.id, random.choice(doinganswer))\n",
        "  elif msg in greeting:\n",
        "    bot.send_message(message.from_user.id, random.choice(greeting))\n",
        "  else:\n",
        "    bot.send_message(message.from_user.id, random.choice(mood))\n",
        "    question1=1\n",
        "  \n",
        "@bot.callback_query_handler(func=lambda call: True)\n",
        "def callback_inline(call):\n",
        "    if call.data == 'yes':\n",
        "        bot.send_message(call.from_user.id, random.choice(mus1c[pred[0]]))\n",
        "    elif call.data == 'no':\n",
        "        bot.send_message(call.from_user.id, 'ну и ладно!!')\n",
        "\n",
        "bot.polling()"
      ],
      "execution_count": 43,
      "outputs": []
    }
  ]
}